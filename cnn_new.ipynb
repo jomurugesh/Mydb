{
  "nbformat": 4,
  "nbformat_minor": 0,
  "metadata": {
    "colab": {
      "name": "Copy of Untitled17.ipynb",
      "version": "0.3.2",
      "provenance": [],
      "include_colab_link": true
    },
    "kernelspec": {
      "name": "python3",
      "display_name": "Python 3"
    },
    "accelerator": "GPU"
  },
  "cells": [
    {
      "cell_type": "markdown",
      "metadata": {
        "id": "view-in-github",
        "colab_type": "text"
      },
      "source": [
        "<a href=\"https://colab.research.google.com/github/jomurugesh/Mydb/blob/master/cnn_new.ipynb\" target=\"_parent\"><img src=\"https://colab.research.google.com/assets/colab-badge.svg\" alt=\"Open In Colab\"/></a>"
      ]
    },
    {
      "metadata": {
        "id": "6DLfH47o5qId",
        "colab_type": "code",
        "outputId": "6d219fc2-7380-4c92-b7c7-0fd511649cc8",
        "colab": {
          "base_uri": "https://localhost:8080/",
          "height": 34
        }
      },
      "cell_type": "code",
      "source": [
        "from keras.datasets import cifar10\n",
        "from keras.models import Sequential\n",
        "from keras.layers import Dense, Dropout, Flatten, Conv2D, MaxPooling2D, BatchNormalization\n"
      ],
      "execution_count": 0,
      "outputs": [
        {
          "output_type": "stream",
          "text": [
            "Using TensorFlow backend.\n"
          ],
          "name": "stderr"
        }
      ]
    },
    {
      "metadata": {
        "id": "x5O-f1Sj5zUG",
        "colab_type": "code",
        "outputId": "21c09f77-7a7e-4b25-ef7d-e28b6aea7f76",
        "colab": {
          "base_uri": "https://localhost:8080/",
          "height": 51
        }
      },
      "cell_type": "code",
      "source": [
        "# Load data set\n",
        "(x_train, y_train), (x_test, y_test) = cifar10.load_data()\n",
        "\n",
        "# CIFAR10 has ten types of images labeled from 0 to 9. We only care about birds, which are labeled as class #2.\n",
        "# So we'll cheat and change the Y values. Instead of each class being labeled from 0 to 9, we'll set it to True\n",
        "# if it's a bird and False if it's not a bird.\n",
        "y_train = (y_train == 2).astype(int)\n",
        "y_test = (y_test == 2).astype(int)"
      ],
      "execution_count": 0,
      "outputs": [
        {
          "output_type": "stream",
          "text": [
            "Downloading data from https://www.cs.toronto.edu/~kriz/cifar-10-python.tar.gz\n",
            "170500096/170498071 [==============================] - 30s 0us/step\n"
          ],
          "name": "stdout"
        }
      ]
    },
    {
      "metadata": {
        "id": "rzEuPGNC51uN",
        "colab_type": "code",
        "colab": {}
      },
      "cell_type": "code",
      "source": [
        "# Normalize image data (pixel values from 0 to 255) to the 0-to-1 range\n",
        "x_train = x_train.astype('float32')\n",
        "x_test = x_test.astype('float32')\n",
        "x_train /= 255\n",
        "x_test /= 255"
      ],
      "execution_count": 0,
      "outputs": []
    },
    {
      "metadata": {
        "id": "cmZM-2rh4fl-",
        "colab_type": "code",
        "colab": {}
      },
      "cell_type": "code",
      "source": [
        "from keras.layers import Input\n",
        "from keras.models import Model\n",
        "ip = Input(shape=(32, 32, 3))\n",
        "conv1 = Conv2D(32, (3, 3), padding='same', activation=\"relu\")(ip)\n",
        "conv2 = Conv2D(32, (3, 3), activation=\"relu\") (conv1)\n",
        "max1 = MaxPooling2D(pool_size=(2, 2))(conv2)\n",
        "\n",
        "\n",
        "conv3 = Conv2D(64, (3, 3), padding='same', activation=\"relu\")(max1)\n",
        "conv4 = Conv2D(64, (3, 3), activation=\"relu\")(conv3)\n",
        "max2 = MaxPooling2D(pool_size=(2, 2))(conv4)\n",
        "\n",
        "\n",
        "flat = Flatten()(max2)\n",
        "dense1 = Dense(512, activation=\"relu\")(flat)\n",
        "res = Dense(1, activation=\"sigmoid\")(dense1)\n"
      ],
      "execution_count": 0,
      "outputs": []
    },
    {
      "metadata": {
        "id": "24TbDdY_6I-9",
        "colab_type": "code",
        "colab": {}
      },
      "cell_type": "code",
      "source": [
        "model_non_local = Model(inputs=ip, outputs=res)"
      ],
      "execution_count": 0,
      "outputs": []
    },
    {
      "metadata": {
        "id": "pLksOgzo6aQr",
        "colab_type": "code",
        "colab": {}
      },
      "cell_type": "code",
      "source": [
        "model_non_local.compile(loss='binary_crossentropy',optimizer=\"adam\",metrics=['accuracy'])"
      ],
      "execution_count": 0,
      "outputs": []
    },
    {
      "metadata": {
        "id": "sqLPuQz36cq4",
        "colab_type": "code",
        "outputId": "485e69ab-29f4-40f2-d996-207966d6f65b",
        "colab": {
          "base_uri": "https://localhost:8080/",
          "height": 474
        }
      },
      "cell_type": "code",
      "source": [
        "model_non_local.fit(x_train,y_train,\n",
        "          batch_size=32,\n",
        "          epochs=10,\n",
        "          verbose=1,\n",
        "          validation_data=(x_test, y_test))\n",
        "score = model_non_local.evaluate(x_test, y_test, verbose=0)\n",
        "print('Test loss:', score[0])\n",
        "print('Test accuracy:', score[1])"
      ],
      "execution_count": 0,
      "outputs": [
        {
          "output_type": "stream",
          "text": [
            "WARNING:tensorflow:From /usr/local/lib/python3.6/dist-packages/tensorflow/python/ops/math_ops.py:3066: to_int32 (from tensorflow.python.ops.math_ops) is deprecated and will be removed in a future version.\n",
            "Instructions for updating:\n",
            "Use tf.cast instead.\n",
            "Train on 50000 samples, validate on 10000 samples\n",
            "Epoch 1/10\n",
            "50000/50000 [==============================] - 25s 497us/step - loss: 0.2756 - acc: 0.9015 - val_loss: 0.2375 - val_acc: 0.9100\n",
            "Epoch 2/10\n",
            "50000/50000 [==============================] - 20s 402us/step - loss: 0.2256 - acc: 0.9160 - val_loss: 0.2185 - val_acc: 0.9179\n",
            "Epoch 3/10\n",
            "50000/50000 [==============================] - 20s 400us/step - loss: 0.1991 - acc: 0.9253 - val_loss: 0.2182 - val_acc: 0.9144\n",
            "Epoch 4/10\n",
            "50000/50000 [==============================] - 20s 400us/step - loss: 0.1785 - acc: 0.9332 - val_loss: 0.1906 - val_acc: 0.9274\n",
            "Epoch 5/10\n",
            "50000/50000 [==============================] - 20s 402us/step - loss: 0.1556 - acc: 0.9420 - val_loss: 0.1853 - val_acc: 0.9294\n",
            "Epoch 6/10\n",
            "50000/50000 [==============================] - 20s 401us/step - loss: 0.1306 - acc: 0.9512 - val_loss: 0.1946 - val_acc: 0.9305\n",
            "Epoch 7/10\n",
            "50000/50000 [==============================] - 20s 404us/step - loss: 0.1046 - acc: 0.9610 - val_loss: 0.2132 - val_acc: 0.9291\n",
            "Epoch 8/10\n",
            "50000/50000 [==============================] - 20s 405us/step - loss: 0.0775 - acc: 0.9710 - val_loss: 0.2935 - val_acc: 0.9326\n",
            "Epoch 9/10\n",
            "50000/50000 [==============================] - 20s 403us/step - loss: 0.0550 - acc: 0.9801 - val_loss: 0.2941 - val_acc: 0.9287\n",
            "Epoch 10/10\n",
            "50000/50000 [==============================] - 20s 403us/step - loss: 0.0416 - acc: 0.9849 - val_loss: 0.3435 - val_acc: 0.9304\n",
            "Test loss: 0.34348903776705264\n",
            "Test accuracy: 0.9304\n"
          ],
          "name": "stdout"
        }
      ]
    },
    {
      "metadata": {
        "id": "UCL_n9FG54eR",
        "colab_type": "code",
        "colab": {}
      },
      "cell_type": "code",
      "source": [
        "# Create a model and add layers\n",
        "model = Sequential()\n",
        "\n",
        "model.add(Conv2D(32, (3, 3), padding='same', input_shape=(32, 32, 3), activation=\"relu\"))\n",
        "model.add(Conv2D(32, (3, 3), activation=\"relu\"))\n",
        "model.add(MaxPooling2D(pool_size=(2, 2)))\n",
        "model.add(BatchNormalization())\n",
        "model.add(Dropout(0.25))\n",
        "\n",
        "model.add(Conv2D(64, (3, 3), padding='same', activation=\"relu\"))\n",
        "model.add(Conv2D(64, (3, 3), activation=\"relu\"))\n",
        "model.add(MaxPooling2D(pool_size=(2, 2)))\n",
        "model.add(BatchNormalization())\n",
        "model.add(Dropout(0.25))\n",
        "\n",
        "model.add(Flatten())\n",
        "model.add(Dense(512, activation=\"relu\"))\n",
        "model.add(Dropout(0.5))\n",
        "model.add(Dense(1, activation=\"sigmoid\"))\n",
        "\n",
        "# Compile the model\n",
        "model.compile(\n",
        "    loss='binary_crossentropy',\n",
        "    optimizer=\"adam\",\n",
        "    metrics=['accuracy']\n",
        ")"
      ],
      "execution_count": 0,
      "outputs": []
    },
    {
      "metadata": {
        "id": "iYvfYuLc6YYW",
        "colab_type": "code",
        "colab": {}
      },
      "cell_type": "code",
      "source": [
        ""
      ],
      "execution_count": 0,
      "outputs": []
    },
    {
      "metadata": {
        "id": "8uGfkes158Rg",
        "colab_type": "code",
        "outputId": "2b6adfe0-3001-4e0d-b733-8df5e78571c0",
        "colab": {
          "base_uri": "https://localhost:8080/",
          "height": 399
        }
      },
      "cell_type": "code",
      "source": [
        "# Train the model\n",
        "model.fit(\n",
        "    x_train,\n",
        "    y_train,\n",
        "    batch_size=32,\n",
        "    epochs=10,\n",
        "    validation_data=(x_test, y_test),\n",
        "    shuffle=True\n",
        ")\n",
        "\n",
        "# Save the trained model to a file so we can use it to make predictions later\n",
        "model.save(\"bird_model.h5\")"
      ],
      "execution_count": 0,
      "outputs": [
        {
          "output_type": "stream",
          "text": [
            "Train on 50000 samples, validate on 10000 samples\n",
            "Epoch 1/10\n",
            "50000/50000 [==============================] - 23s 460us/step - loss: 0.1141 - acc: 0.9573 - val_loss: 0.2607 - val_acc: 0.9286\n",
            "Epoch 2/10\n",
            "50000/50000 [==============================] - 23s 460us/step - loss: 0.1083 - acc: 0.9601 - val_loss: 0.1854 - val_acc: 0.9361\n",
            "Epoch 3/10\n",
            "50000/50000 [==============================] - 23s 461us/step - loss: 0.1018 - acc: 0.9621 - val_loss: 0.1836 - val_acc: 0.9379\n",
            "Epoch 4/10\n",
            "50000/50000 [==============================] - 23s 460us/step - loss: 0.0952 - acc: 0.9646 - val_loss: 0.1948 - val_acc: 0.9415\n",
            "Epoch 5/10\n",
            "50000/50000 [==============================] - 23s 460us/step - loss: 0.0926 - acc: 0.9662 - val_loss: 0.2609 - val_acc: 0.9334\n",
            "Epoch 6/10\n",
            "50000/50000 [==============================] - 23s 460us/step - loss: 0.0899 - acc: 0.9674 - val_loss: 0.2147 - val_acc: 0.9380\n",
            "Epoch 7/10\n",
            "50000/50000 [==============================] - 23s 462us/step - loss: 0.0847 - acc: 0.9691 - val_loss: 0.2035 - val_acc: 0.9388\n",
            "Epoch 8/10\n",
            "50000/50000 [==============================] - 23s 461us/step - loss: 0.0796 - acc: 0.9719 - val_loss: 0.1759 - val_acc: 0.9412\n",
            "Epoch 9/10\n",
            "50000/50000 [==============================] - 23s 461us/step - loss: 0.0772 - acc: 0.9720 - val_loss: 0.1854 - val_acc: 0.9348\n",
            "Epoch 10/10\n",
            "50000/50000 [==============================] - 23s 460us/step - loss: 0.0736 - acc: 0.9735 - val_loss: 0.2207 - val_acc: 0.9409\n"
          ],
          "name": "stdout"
        }
      ]
    },
    {
      "metadata": {
        "id": "aT8AE79H9NK_",
        "colab_type": "code",
        "colab": {}
      },
      "cell_type": "code",
      "source": [
        "from sklearn.metrics import confusion_matrix, classification_report\n",
        "from keras.models import load_model"
      ],
      "execution_count": 0,
      "outputs": []
    },
    {
      "metadata": {
        "id": "61Wyyd1e9Bf5",
        "colab_type": "code",
        "outputId": "cdbd290a-30c6-495f-d816-e6479cf5b18d",
        "colab": {
          "base_uri": "https://localhost:8080/",
          "height": 272
        }
      },
      "cell_type": "code",
      "source": [
        "# Load the model we trained\n",
        "model = load_model('bird_model.h5')\n",
        "predictions = model.predict(x_test, batch_size=32, verbose=1)\n",
        "\n",
        "# If the model is more than 50% sure the object is a bird, call it a bird.\n",
        "# Otherwise, call it \"not a bird\".\n",
        "predictions = predictions > 0.5\n",
        "\n",
        "# Calculate how many mis-classifications the model makes\n",
        "tn, fp, fn, tp = confusion_matrix(y_test, predictions).ravel()\n",
        "print(f\"True Positives: {tp}\")\n",
        "print(f\"True Negatives: {tn}\")\n",
        "print(f\"False Positives: {fp}\")\n",
        "print(f\"False Negatives: {fn}\")\n",
        "\n",
        "# Calculate Precision and Recall for each class\n",
        "report = classification_report(y_test, predictions)\n",
        "print(report)"
      ],
      "execution_count": 0,
      "outputs": [
        {
          "output_type": "stream",
          "text": [
            "10000/10000 [==============================] - 1s 149us/step\n",
            "True Positives: 495\n",
            "True Negatives: 8914\n",
            "False Positives: 86\n",
            "False Negatives: 505\n",
            "              precision    recall  f1-score   support\n",
            "\n",
            "           0       0.95      0.99      0.97      9000\n",
            "           1       0.85      0.49      0.63      1000\n",
            "\n",
            "   micro avg       0.94      0.94      0.94     10000\n",
            "   macro avg       0.90      0.74      0.80     10000\n",
            "weighted avg       0.94      0.94      0.93     10000\n",
            "\n"
          ],
          "name": "stdout"
        }
      ]
    }
  ]
}